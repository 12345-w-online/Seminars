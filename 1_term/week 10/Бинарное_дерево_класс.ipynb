{
 "cells": [
  {
   "cell_type": "code",
   "execution_count": 2,
   "metadata": {},
   "outputs": [],
   "source": [
    "import math\n",
    "\n",
    "class Node:\n",
    "    def __init__(self, data, left=None, right=None, parent=None, index=None):\n",
    "        self.value = data\n",
    "        self.left = left\n",
    "        self.right = right\n",
    "        self.parent = parent\n",
    "        self.index = index\n",
    "\n",
    "    def get():\n",
    "        pass\n",
    "\n",
    "\n",
    "class Bin_tree:\n",
    "    def __init__(self, elements=None):\n",
    "        self.len = 0\n",
    "        self.start_node = None\n",
    "        if elements is not None:\n",
    "            if isinstance(elements, list):\n",
    "                self.add_elements(elements)\n",
    "            elif isinstance(elements, str) or isinstance(elements, int):\n",
    "                self.add_element(self, elements)\n",
    "\n",
    "    def add_elements(self, elements:list) -> None:\n",
    "        for i in elements:\n",
    "            self.add_element(self, i)\n",
    "\n",
    "    def add_element(self, elem) -> None:\n",
    "        if self.len == 0:\n",
    "            self.start_node = Node(elem, index=self.len)\n",
    "            self.len += 1\n",
    "            return\n",
    "        else:\n",
    "            lavel = 1\n",
    "            lavel_sum = 1\n",
    "            while (self.len + 1) > (lavel_sum + 2 ** lavel):\n",
    "                lavel_sum += 2 ** lavel\n",
    "                lavel += 1 \n",
    "\n",
    "            # left means 0, right means 1\n",
    "            place_of_parent = []\n",
    "            index_parent = self.len - lavel_sum + 1\n",
    "            while lavel != 0:\n",
    "                place_of_parent.append((index_parent + 1) % 2)\n",
    "                index_parent = math.ceil((index_parent - 1) // 2) + 1\n",
    "                lavel -= 1\n",
    "                lavel_sum -= 2 ** lavel\n",
    "            \n",
    "            self.len += 1\n",
    "            place_of_parent.reverse()\n",
    "            self.add_element_by_index(self, elem, place_of_parent)\n",
    "\n",
    "    def add_element_by_index(self, elem, place:list) -> None:\n",
    "            new_node = Node(elem, index=self.len)\n",
    "            now_node = self.start_node\n",
    "            for i in place:\n",
    "                if i == 0:\n",
    "                    if now_node.left is None:\n",
    "                        now_node.left = new_node\n",
    "                        new_node.parent = now_node\n",
    "                    else:\n",
    "                        now_node = now_node.left\n",
    "                elif i == 1:\n",
    "                    if now_node.right is None:\n",
    "                        now_node.right = new_node\n",
    "                        new_node.parent = now_node\n",
    "                    else:\n",
    "                        now_node = now_node.right\n",
    "\n",
    "            return None\n",
    "\n",
    "    def print_tree(self, now_node=None):\n",
    "        if now_node is None:\n",
    "            self.print_tree(now_node = self.start_node)\n",
    "        \n"
   ]
  },
  {
   "cell_type": "code",
   "execution_count": 3,
   "metadata": {},
   "outputs": [
    {
     "name": "stdout",
     "output_type": "stream",
     "text": [
      "1 2 4 5 6 7 8 9\n"
     ]
    }
   ],
   "source": []
  }
 ],
 "metadata": {
  "kernelspec": {
   "display_name": "Python 3",
   "language": "python",
   "name": "python3"
  },
  "language_info": {
   "codemirror_mode": {
    "name": "ipython",
    "version": 3
   },
   "file_extension": ".py",
   "mimetype": "text/x-python",
   "name": "python",
   "nbconvert_exporter": "python",
   "pygments_lexer": "ipython3",
   "version": "3.11.5"
  }
 },
 "nbformat": 4,
 "nbformat_minor": 2
}
