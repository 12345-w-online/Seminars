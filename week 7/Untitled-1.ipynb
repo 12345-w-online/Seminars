{
 "cells": [
  {
   "cell_type": "markdown",
   "metadata": {},
   "source": [
    "# Задача 1"
   ]
  },
  {
   "cell_type": "code",
   "execution_count": 5,
   "metadata": {},
   "outputs": [],
   "source": [
    "class Vector():\n",
    "    def __init__(self, x: int, y: int, z: int, mass=1):\n",
    "        assert isinstance(x, int) and isinstance(y, int) and isinstance(z, int)\n",
    "        self.x = x\n",
    "        self._y = y\n",
    "        self._z = z\n",
    "        self._data = [x, y, z]\n",
    "        self._x = \n",
    "        self.len = \n",
    "\n",
    "    def len(self):\n",
    "        len = (self._data[0] ** 2 + self._data[1] ** 2 + self._data[2] ** 2) ** (1/2)\n",
    "        self._len = len\n",
    "\n",
    "    def __add__(self, others):\n",
    "        if isinstance(others, Vector):\n",
    "            return [self._data[i] + others._data[i] for i in range(3)]\n",
    "        elif isinstance(others, list):\n",
    "            return [self._data[i] + others[i] for i in range(3)]\n",
    "    \n",
    "    def __sub__(self, others):\n",
    "        self._data = [self._data[i] - others._data[i] for i in range(3)]\n",
    "        return self._data\n",
    "\n",
    "    def __mul__(self, others):\n",
    "        if type(others) == int:\n",
    "            return self.non_vec_product(self._data, others)\n",
    "        elif isinstance(others, Vector):\n",
    "            return self.vec_product(self._data, others._data)\n",
    "\n",
    "    def vec_product(self, me, others):\n",
    "        return [me[i] * others[i] for i in range(3)]\n",
    "\n",
    "    def non_vec_product(self, me, others):\n",
    "        return [me[i] * others for i in range(3)]\n",
    "    \n",
    "    def center_mass(self, me, data):\n",
    "        vec_cen =  me\n",
    "        for i in range(len(data)):\n",
    "            vec_cen = data[i] + vec_cen\n",
    "        self._data = [i / (len(data) + 1) for i in vec_cen]\n",
    "        return None\n",
    "    \n",
    "    def area(self, me1, me2, me3):\n",
    "        a = me1 - me2\n",
    "\n",
    "    def get_data(self):\n",
    "        return self._data\n",
    "    \n",
    "    def get_area(self):\n",
    "        return self"
   ]
  },
  {
   "cell_type": "code",
   "execution_count": 6,
   "metadata": {},
   "outputs": [
    {
     "name": "stdout",
     "output_type": "stream",
     "text": [
      "[4, 4, 3]\n",
      "5\n",
      "[4, 4, 3]\n",
      "<class 'list'>\n"
     ]
    }
   ],
   "source": [
    "v1 = Vector(5, 6, 4)\n",
    "v2 = Vector(1, 2, 1)\n",
    "v3 = Vector(9, 9, 9)\n",
    "a = v1 - v2\n",
    "\n",
    "print(v1.get_data())\n",
    "print(v1.x)\n",
    "print(a)\n",
    "print(type(a))"
   ]
  },
  {
   "cell_type": "markdown",
   "metadata": {},
   "source": [
    "# Задача 2"
   ]
  },
  {
   "cell_type": "code",
   "execution_count": null,
   "metadata": {},
   "outputs": [],
   "source": []
  }
 ],
 "metadata": {
  "kernelspec": {
   "display_name": "Python 3",
   "language": "python",
   "name": "python3"
  },
  "language_info": {
   "codemirror_mode": {
    "name": "ipython",
    "version": 3
   },
   "file_extension": ".py",
   "mimetype": "text/x-python",
   "name": "python",
   "nbconvert_exporter": "python",
   "pygments_lexer": "ipython3",
   "version": "3.11.5"
  }
 },
 "nbformat": 4,
 "nbformat_minor": 2
}
