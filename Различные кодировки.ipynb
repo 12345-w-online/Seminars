{
 "cells": [
  {
   "cell_type": "code",
   "execution_count": 44,
   "metadata": {},
   "outputs": [
    {
     "name": "stdout",
     "output_type": "stream",
     "text": [
      "ткмц\n",
      "\n",
      "\n",
      "\n",
      "\n"
     ]
    }
   ],
   "source": [
    "class Atbash:\n",
    "    alphabet = \"абвгдеёжзийклмнопрстуфхцчшщъыьэюя\"\n",
    "\n",
    "    def __init__(self):\n",
    "        lowercase_code = {x: y for x, y in zip(self.alphabet, self.alphabet[::-1])}\n",
    "        uppercase_code = {x.upper(): y.upper() for x, y in zip(self.alphabet, self.alphabet[::-1])}\n",
    "        self._encode = lowercase_code\n",
    "        self._encode.update(uppercase_code)\n",
    "\n",
    "    def encode(self, text):\n",
    "        return ''.join([self._encode.get(char, char) for char in text])\n",
    "\n",
    "\n",
    "cipher = Atbash()\n",
    "line = input()\n",
    "while line != '.':\n",
    "    print(cipher.encode(line))\n",
    "    print(4)"
   ]
  },
  {
   "cell_type": "markdown",
   "metadata": {},
   "source": [
    " Шифр Цезаря — это вид шифра подстановки, в котором каждый символ в открытом тексте заменяется символом, находящимся на некотором постоянном числе позиций левее или правее него в алфавите. Например, в шифре со сдвигом вправо на 3, А была бы заменена на Г, Б станет Д, и так далее.  Шифр назван в честь римского императора Гая Юлия Цезаря, использовавшего его для секретной переписки со своими генералами.  Следующая часть работы зашифрована шифром Цезаря.\n",
    " Допишите метод decode и расшифруйте следующий раздел лабораторной работы. Подумайте, почему вам не сообщили ключ шифрования и что вам с этим делать."
   ]
  },
  {
   "cell_type": "code",
   "execution_count": 20,
   "metadata": {},
   "outputs": [
    {
     "name": "stdout",
     "output_type": "stream",
     "text": [
      "Фхузхессш ирд ьецчучтузу етернме црйишйч тефнцечб цесуцчудчйрбту. Шцфйъуж!\n",
      "Программу для частотного анализа следует написать самостоятельно. Успехов!\n"
     ]
    }
   ],
   "source": [
    "class Caesar:\n",
    "    alphabet = \"яюэьыъщшчцхфутсрпонмлкйизжёедгвба\"\n",
    "\n",
    "    def __init__(self, key):\n",
    "        self._encode = dict()\n",
    "        for i in range(len(self.alphabet)):\n",
    "            letter = self.alphabet[i]\n",
    "            encoded = self.alphabet[(i + key) % len(self.alphabet)]\n",
    "            self._encode[letter] = encoded\n",
    "            self._encode[letter.upper()] = encoded.upper()\n",
    "        self._decode = {y: x for x, y in zip(self._encode.keys(), self._encode.values())}\n",
    "\n",
    "    def encode(self, text):\n",
    "        return ''.join([self._encode.get(char, char) for char in text])\n",
    "\n",
    "    def decode(self, text):\n",
    "        return ''.join([self._decode.get(char, char) for char in text])\n",
    "    \n",
    "line = input()\n",
    "for key in range(19,20):\n",
    "    cipher = Caesar(key)\n",
    "\n",
    "    print(cipher.decode(line))\n",
    "    print(cipher.encode(line))"
   ]
  },
  {
   "cell_type": "markdown",
   "metadata": {},
   "source": [
    "Допишите метод decode и расшифруйте следующий раздел лабораторной работы. Подумайте, почему вам не сообщили ключ шифрования и что вам с этим делать."
   ]
  },
  {
   "cell_type": "markdown",
   "metadata": {},
   "source": [
    "Шифр простой замены\n",
    " ------------------- \n",
    "Поздравляем с расшифровкой раздела!  Итак, вы догадались почему шифр Цезаря не является криптостойким: слишком мала мощность множества ключей и нужный ключ легко найти методом полного перебора.  Можно ли увеличить криптостойкость, не меняя метод шифрования? Да, можно. Если заменять один символ алфавита на определённый другой символ того же алфавита по какой-то таблице замен, то сама таблица замен и является ключом.\n",
    "\n",
    "|а|б|в|г|д|е|ё|ж|з|и|й|к|л|м|н|о|п|р|с|т|у|ф|х|ц|ч|ш|щ|ъ|ы|ь|э|ю|я|  |ь|з|ц|в|к|б|щ|х|ф|п|р|я|л|э|а|е|ы|ш|у|м|ъ|ж|ё|о|г|й|н|д|и|т|ч|ю|с|   Множество ключей — это множество возможных таблиц простых замен. Для русского алфавита мощность множества таблиц простых замен равна факториалу от 33. 33! = 8683317618811886495518194401280000000  Если тратить на проверку одного варианта 0.000001 секунды, получится 2.8e+23 лет. Может показаться, что шифр простой замены вполне криптостойкий, однако это не так.\n",
    "\n",
    "Его достаточно просто взломать при помощи [частотного анализа](https://ru.wikipedia.org/wiki/%D0%A7%D0%B0%D1%81%D1%82%D0%BE%D1%82%D0%BD%D1%8B%D0%B9_%D0%B0%D0%BD%D0%B0%D0%BB%D0%B8%D0%B7). Дело в том, что частота появления заданной буквы алфавита в достаточно длинных текстах одна и та же для разных текстов одного языка. Если в шифротексте будет символ с вероятностью появления, аналогичной стандартной для языка, то можно предположить, что он и является указанной зашифрованной буквой.\n",
    "\n",
    "\n",
    "Метод частотного криптоанализа известен с IX-го века, хотя наиболее известным случаем его применения в реальной жизни, возможно, является дешифровка египетских иероглифов в 1822 году.  Итак, следующая часть работы зашифрована при помощи следующей программы:\n",
    "\n"
   ]
  },
  {
   "cell_type": "code",
   "execution_count": 33,
   "metadata": {},
   "outputs": [
    {
     "name": "stdout",
     "output_type": "stream",
     "text": [
      "м 1.8506278916060808\n",
      "э 9.451421017845341\n",
      "я 4.890945142101785\n",
      "х 1.5862524785194978\n",
      "ю 5.353602115003304\n",
      "щ 6.609385327164574\n",
      "ы 0.7270323859881032\n",
      "е 1.3879709187045606\n",
      "г 8.85657633840053\n",
      "с 3.238598810310641\n",
      "а 2.7098479841374754\n",
      "ж 5.155320555188368\n",
      "ц 9.253139458030404\n",
      "н 0.8592200925313946\n",
      "п 1.982815598149372\n",
      "о 5.485789821546596\n",
      "ш 4.758757435558493\n",
      "б 6.873760740251157\n",
      "й 2.1150033046926633\n",
      "з 2.577660277594184\n",
      "и 1.9167217448777263\n",
      "р 1.0575016523463316\n",
      "ь 1.520158625247852\n",
      "т 1.5862524785194978\n",
      "ч 2.775941837409121\n",
      "в 0.7931262392597489\n",
      "л 1.1896893588896233\n",
      "ф 0.4626569729015202\n",
      "ё 0.6609385327164574\n",
      "д 0.06609385327164573\n",
      "ъ 0.0\n",
      "к 0.13218770654329146\n",
      "\n",
      "\n",
      "\n",
      "\n",
      "\n",
      "\n",
      "\n",
      "\n",
      "\n",
      "\n",
      "\n",
      "\n",
      "\n",
      "\n",
      "\n",
      "\n",
      "\n",
      "\n",
      "\n",
      "\n",
      "\n",
      "\n",
      "\n",
      "\n",
      "\n",
      "\n",
      "\n",
      "\n",
      "\n",
      "\n",
      "\n",
      "\n"
     ]
    }
   ],
   "source": [
    "text = input()\n",
    "my_dict = dict()\n",
    "alphabet = \"яюэьыъщшчцхфутсрпонмлкйизжёедгвба\"\n",
    "my_len = 0\n",
    "for elem in text:\n",
    "    \n",
    "    elem = elem.lower()\n",
    "    if elem in alphabet:\n",
    "        my_len += 1\n",
    "        if elem in my_dict.keys():\n",
    "            my_dict[elem] += 1\n",
    "        else:\n",
    "            my_dict[elem] = 0\n",
    "\n",
    "for keys in my_dict.keys():\n",
    "    my_dict[keys] /= my_len\n",
    "    my_dict[keys] *= 100\n",
    "    print(keys, my_dict[keys])\n",
    "\n",
    "for i in range(len(my_dict)):\n",
    "    print()"
   ]
  },
  {
   "cell_type": "code",
   "execution_count": 43,
   "metadata": {},
   "outputs": [
    {
     "name": "stdout",
     "output_type": "stream",
     "text": [
      "# строчная буква\n"
     ]
    }
   ],
   "source": [
    "import random\n",
    "\n",
    "class Monoalphabet:\n",
    "    alphabet = \"абвгдеёжзийклмнопрстуфхцчшщъыьэюя\"  # TODO\n",
    "\n",
    "    def __init__(self, keytable, de=False):\n",
    "        if isinstance(keytable, list) and not(de):\n",
    "            lowercase_code = {x: y for x, y in zip(self.alphabet, keytable)}\n",
    "            uppercase_code = {x.upper(): y.upper() for x, y in zip(self.alphabet, keytable)}\n",
    "            self._encode = lowercase_code\n",
    "            self._encode.update(uppercase_code)\n",
    "        elif isinstance(keytable, list):\n",
    "            lowercase_code_de = {y: x for x, y in zip(self.alphabet, keytable)}\n",
    "            uppercase_code_de = {x.upper(): y.upper() for x, y in zip(self.alphabet, keytable)}\n",
    "            self._decode = lowercase_code_de\n",
    "            self._decode.update(uppercase_code_de)\n",
    "\n",
    "    def encode(self, text):\n",
    "        return ''.join([self._encode.get(char, char) for char in text])\n",
    "\n",
    "    def decode(self, text):\n",
    "        return ''.join([self._decode.get(char, char) for char in text])\n",
    "\n",
    "key = Monoalphabet.alphabet[:]\n",
    "for i in key:\n",
    "    my_dict[i] = 0\n",
    "\n",
    "my_keytable = list('эьормщднйгычясюцажшбтпвёле__зхкфи')\n",
    "\n",
    "# for i, j in zip(my_dict.keys(), ):\n",
    "#     if my_dict[i] == 0:\n",
    "#         my_dict[i] = j\n",
    "\n",
    "# random.shuffle(key)\n",
    "cipher = Monoalphabet(my_keytable, de=True)\n",
    "line = input()\n",
    "while line:\n",
    "    print(cipher.decode(line))\n",
    "    line = input()"
   ]
  },
  {
   "cell_type": "markdown",
   "metadata": {},
   "source": [
    "Программу для частотного анализа следует написать самостоятельно. Успехов!"
   ]
  },
  {
   "cell_type": "markdown",
   "metadata": {},
   "source": [
    "\n",
    "Щифр Циженера (полиалфавитной замены)\n",
    "\n",
    "Сальнейшим продолжением шифров простой замены является многоалфавитные шифры. Кбу Кль-Линди в своих работах показал, что обычные моноалфавитные шифры довольно-таки просто поддаются частотному криптоанализу и первым предложил использовать многоалфавитные шифры. Ц _вропе такие шифры были впервые описаны в 1467 году итальянским архитектором Иеон Хаттиста Кльберти. Ц XVI веке немецкий аббат Роганн Ьритемий в своей книге “Етенография” представил схему полиалфавитного шифрования в виде таблицы. Холее сложный вариант с использованием смешанных алфавитов был описан в 1563 году Сжамбаттиста делла Эорта в его книге “Эро скрытую значимость отдельных букв”. Эоследним словом в развитии полиалфавитных шифров можно считать роторные машины, примером которой можно считать немецкую машину Enigma, разработанная в 1917 г. Еуть полиалфавитных шифров заключена в многократном применении различных шифров простой замены к определенному числу букв шифруемого текста. Ьо есть к каждой букве по отдельности применяется один из шифров простой замены.  Щифр Циженера состоит из последовательности нескольких шифров Дезаря с различными значениями сдвига. Сля зашифровывания может использоваться таблица алфавитов, называемая квадрат (таблица) Циженера. Эрименительно к русскому алфавиту таблица Циженера составляется из строк по 33 символов, причём каждая следуюъая строка сдвигается на несколько позиций. Ьаким образом, в таблице получается 33 различных шифров Дезаря. Фа разных этапах кодировки шифр Циженера использует различные алфавиты из этой таблицы. Фа каждом этапе шифрования используются различные алфавиты, выбираемые в зависимости от символа ключевого слова. Фапример, если ключевое слово “ЕКЬ”, то первая буква открытого текста шифруется с использованием алфавита “Е’, вторая “К”, третья “Ь”, четвёртая снова “Е” и так далее.\n",
    "\n",
    "Эрограмма шифрования шифром Циженера:"
   ]
  },
  {
   "cell_type": "code",
   "execution_count": 10,
   "metadata": {},
   "outputs": [
    {
     "name": "stdout",
     "output_type": "stream",
     "text": [
      "['й', 'в', 'ы', 'л', 'щ', 'ф']\n",
      "энигма\n"
     ]
    }
   ],
   "source": [
    "class Vigenere:\n",
    "    alphabet = \"абвгдеёжзийклмнопрстуфхцчшщъыьэюя\"  # TODO\n",
    "\n",
    "    def __init__(self, keyword):\n",
    "        self.alphaindex = {ch: index for index, ch in enumerate(self.alphabet)}\n",
    "        self.key = [self.alphaindex[letter] for letter in keyword.lower()]\n",
    "\n",
    "    def caesar(self, letter, shift, de=False):\n",
    "        if letter in self.alphaindex:  # строчная буква\n",
    "            if de:\n",
    "                shift = -shift\n",
    "            index = (self.alphaindex[letter] + shift) % len(self.alphabet)\n",
    "            cipherletter = self.alphabet[index]\n",
    "        elif letter.lower() in self.alphaindex:  # заглавная буква\n",
    "            cipherletter = self.caesar(letter.lower(), shift).upper()\n",
    "        else:\n",
    "            cipherletter = letter\n",
    "        return cipherletter\n",
    "\n",
    "    def encode(self, line):\n",
    "        ciphertext = []\n",
    "        for i, letter in enumerate(list(line)):\n",
    "            shift = self.key[i % len(self.key)]\n",
    "            cipherletter = self.caesar(letter, shift)\n",
    "            ciphertext.append(cipherletter)\n",
    "\n",
    "        return ''.join(ciphertext)\n",
    "\n",
    "    def decode(self, line):\n",
    "        ciphertext = []\n",
    "        print(line)\n",
    "        my_i = 0\n",
    "        for i, letter in enumerate(line):\n",
    "            if letter in self.alphabet:\n",
    "                my_i += 1\n",
    "            shift = self.key[my_i % len(self.key)]\n",
    "            cipherletter = self.caesar(letter, shift, de=True)\n",
    "            ciphertext.append(cipherletter)\n",
    "\n",
    "        return ''.join(ciphertext)\n",
    "\n",
    "\n",
    "keyword = 'фтимфтим'\n",
    "cipher = Vigenere(keyword)\n",
    "\n",
    "line = input()\n",
    "while line != '.':\n",
    "    line = list(line)\n",
    "    # line = list(''.join(line.split()))\n",
    "    print(cipher.decode(line))\n",
    "    line = input()"
   ]
  },
  {
   "cell_type": "markdown",
   "metadata": {},
   "source": [
    "Эоследний раздел работы зашифрован шифром Циженера с неизвестным кодовым словом. Эодсказка для самых стойких криптоаналитиков: длина кодового слова 8."
   ]
  },
  {
   "cell_type": "markdown",
   "metadata": {},
   "source": [
    "энигма\n",
    "-------------------------------------\n",
    "(ключ-слово: мфти)"
   ]
  },
  {
   "cell_type": "markdown",
   "metadata": {},
   "source": [
    "интересующиеся могут почитать про реализацию сложного полиалфавитного шифра -- компьютерную модель [шифра \"энигмы\"](https://habr.com/ru/articles/721790/). элементы методов шифрования, использовавшихся в машинах этой серии, используются до сих пор."
   ]
  }
 ],
 "metadata": {
  "kernelspec": {
   "display_name": "Python 3",
   "language": "python",
   "name": "python3"
  },
  "language_info": {
   "codemirror_mode": {
    "name": "ipython",
    "version": 3
   },
   "file_extension": ".py",
   "mimetype": "text/x-python",
   "name": "python",
   "nbconvert_exporter": "python",
   "pygments_lexer": "ipython3",
   "version": "3.11.5"
  }
 },
 "nbformat": 4,
 "nbformat_minor": 2
}
