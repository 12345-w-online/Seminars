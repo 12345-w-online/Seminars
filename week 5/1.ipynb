{
 "cells": [
  {
   "cell_type": "markdown",
   "metadata": {},
   "source": [
    "# 1) Наибольшее число\n",
    " \n",
    "Задан массив неотрицательных целых чисел. Расположите их так, чтобы образовалось наибольшее число.\n",
    "\n",
    "Например, из массива чисел [3, 30, 34, 5, 9] наибольшее можно получить число 9534330.\n",
    "\n",
    "Примечание: Результат может быть очень большим, поэтому вернуть следует строку, а не целое число."
   ]
  },
  {
   "cell_type": "code",
   "execution_count": 39,
   "metadata": {},
   "outputs": [
    {
     "name": "stdout",
     "output_type": "stream",
     "text": [
      "[('9', '999'), ('5', '555'), ('34', '344'), ('3', '333'), ('303', '303'), ('30', '300')]\n",
      "9534330330\n"
     ]
    },
    {
     "data": {
      "text/plain": [
       "[('9', '999'),\n",
       " ('5', '555'),\n",
       " ('34', '344'),\n",
       " ('3', '333'),\n",
       " ('303', '303'),\n",
       " ('30', '300')]"
      ]
     },
     "execution_count": 39,
     "metadata": {},
     "output_type": "execute_result"
    }
   ],
   "source": [
    "# a = list(input())\n",
    "a = list(map(str,[3, 30, 34, 5, 9, 303]))\n",
    "len_m = len(max(a, key = lambda x: len(x)))\n",
    "a = list(map(lambda x: (x, x + (x[len(x) - 1] * (len_m - len(x)))), a))\n",
    "a.sort(key = lambda x: x[1], reverse=True)\n",
    "print(a)\n",
    "print(''.join([i[0] for i in a]))\n"
   ]
  },
  {
   "cell_type": "markdown",
   "metadata": {},
   "source": [
    "# 2) Ограбление домов\n",
    " \n",
    "Вы – профессионал своего дела и планируете ограбить ряд домов вдоль улицы. В каждом доме спрятана определенная сумма денег. Единственное, что мешает Вам грабить – так это то, что соседние дома связаны системой безопасности: будет совершено автоматическое обращение в полицию, если два соседние дома были ограблены в один и тот же вечер. Зная количество денег в каждом доме (задан списком неотрицательных целых чисел), определить максимальную сумму, которую Вы можете ограбить сегодня вечером без обращения в полицию."
   ]
  },
  {
   "cell_type": "code",
   "execution_count": 34,
   "metadata": {},
   "outputs": [
    {
     "name": "stdout",
     "output_type": "stream",
     "text": [
      "[1, 2, 6, 10, 8, 20, 25, 30]\n",
      "30\n"
     ]
    }
   ],
   "source": [
    "# a = list(input())\n",
    "a = [1, 2, 5, 8, 2, 10, 15, 10]\n",
    "dp = [a[0], a[1], a[0] + a[2]]\n",
    "for i in range(3, len(a)):\n",
    "    dp.append(max(dp[i - 2], dp[i - 3]) + a[i])\n",
    "\n",
    "# print(dp)\n",
    "print(max(dp[len(a)-1], dp[len(a) - 2]))"
   ]
  },
  {
   "cell_type": "markdown",
   "metadata": {},
   "source": [
    "# Задача 4 коровки"
   ]
  },
  {
   "cell_type": "code",
   "execution_count": 47,
   "metadata": {},
   "outputs": [
    {
     "name": "stdout",
     "output_type": "stream",
     "text": [
      "21\n"
     ]
    }
   ],
   "source": [
    "# n, m = map(int,input().split())\n",
    "n, m = 15, 15\n",
    "i = -1\n",
    "while (n % 2 == 1 and m % 2 == 1) and (n != 1 or m != 1):\n",
    "    i +=1\n",
    "    n = (n - 1) / 2\n",
    "    m = (m - 1) / 2\n",
    "\n",
    "sum = 0\n",
    "for j in range(i + 1):\n",
    "    sum += 4**j\n",
    "print(sum)"
   ]
  },
  {
   "cell_type": "markdown",
   "metadata": {},
   "source": [
    "# 5) Мороженка"
   ]
  },
  {
   "cell_type": "code",
   "execution_count": 28,
   "metadata": {},
   "outputs": [
    {
     "name": "stdout",
     "output_type": "stream",
     "text": [
      "[('1', '2', '3'), ('1', '2', '4'), ('1', '2', '5'), ('1', '3', '4'), ('1', '3', '5'), ('1', '4', '5'), ('2', '3', '4'), ('2', '3', '5'), ('2', '4', '5'), ('3', '4', '5')]\n",
      "[('1', '3', '1'), ('1', '3', '2'), ('1', '3', '3'), ('1', '3', '4'), ('1', '3', '5')]\n",
      "[('1', '3', '1'), ('1', '3', '2'), ('1', '3', '3'), ('1', '3', '4'), ('1', '3', '5')]\n",
      "[('1', '3', '1'), ('1', '3', '2'), ('1', '3', '3'), ('1', '3', '4'), ('1', '3', '5')]\n",
      "3 [('1', '4', '5'), ('2', '3', '5'), ('2', '4', '5')]\n"
     ]
    }
   ],
   "source": [
    "import itertools\n",
    "\n",
    "n, m  = map(int,input(\"some string\").split())\n",
    "list_of_combinations = list(itertools.combinations(''.join([str(i) for i in range(1, n + 1)]), 3))\n",
    "# print(list_of_combinations)\n",
    "for i in range(m):\n",
    "    no_element = tuple(map(str,input().split()))\n",
    "    # print(no_elements)\n",
    "    for j in list(list_of_combinations):\n",
    "        list_of_combinations.remove(j) if no_element[0] in j and no_element[1] in j else None\n",
    "\n",
    "print(len(list_of_combinations), list_of_combinations)"
   ]
  },
  {
   "cell_type": "markdown",
   "metadata": {},
   "source": [
    "# 6) От винта"
   ]
  },
  {
   "cell_type": "code",
   "execution_count": 57,
   "metadata": {},
   "outputs": [
    {
     "name": "stdout",
     "output_type": "stream",
     "text": [
      "7\n"
     ]
    }
   ],
   "source": [
    "a, b = map(int, input().split())\n",
    "x = 0\n",
    "\n",
    "while (not float((a + x) / b).is_integer()) or (not float((b + x) / a).is_integer()) and (x < 10000):\n",
    "    x += 1\n",
    "\n",
    "print(x)"
   ]
  },
  {
   "cell_type": "markdown",
   "metadata": {},
   "source": [
    "# 7) Прибыль"
   ]
  },
  {
   "cell_type": "code",
   "execution_count": 77,
   "metadata": {},
   "outputs": [
    {
     "name": "stdout",
     "output_type": "stream",
     "text": [
      "4\n"
     ]
    }
   ],
   "source": [
    "n = int(input())\n",
    "s = list(map(int, input().split()))\n",
    "\n",
    "m = max(s)\n",
    "nom_max = s.index(m)\n",
    "sum = 0\n",
    "for i in range(n):\n",
    "    if nom_max == i and i != len(s) - 1:\n",
    "        m = max(s[i + 1: len(s) + 1])\n",
    "        nom_max = s[i + 1: len(s) + 1].index(m) + i + 1\n",
    "    else:\n",
    "        sum += m - s[i]\n",
    "\n",
    "print(sum)"
   ]
  },
  {
   "cell_type": "markdown",
   "metadata": {},
   "source": [
    "# 3) Фибоначи"
   ]
  },
  {
   "cell_type": "code",
   "execution_count": 90,
   "metadata": {},
   "outputs": [
    {
     "name": "stdout",
     "output_type": "stream",
     "text": [
      "['a', 'b'] a\n",
      "['b', 'ab'] b\n",
      "['bab', 'abbab'] a\n",
      "['bababbababbabbababbab', 'abbabbababbabbababbababbabbababbab'] a\n"
     ]
    }
   ],
   "source": [
    "def fibo(n, s, k='0'):\n",
    "    for i in list(range(n + 1 - k)):\n",
    "        s.append(s[-2] + s[-1])\n",
    "        del s[0]\n",
    "    return (s, n + 1)\n",
    "\n",
    "n = int(input())\n",
    "\n",
    "s = []\n",
    "for i in range(n):\n",
    "    s.append(tuple(map(int, input().split())))\n",
    "s.sort(key = lambda x: x[0])\n",
    "\n",
    "fib = ['a', 'b']\n",
    "max_fib = 1\n",
    "for i in range(n):\n",
    "    fib, max_fib = fibo(s[i][0], fib, max_fib)\n",
    "    print(fib, fib[0][s[i][1] - 1])"
   ]
  },
  {
   "cell_type": "markdown",
   "metadata": {},
   "source": [
    "# 8) Общие подпоследовательности"
   ]
  },
  {
   "cell_type": "code",
   "execution_count": 88,
   "metadata": {},
   "outputs": [
    {
     "data": {
      "text/plain": [
       "[]"
      ]
     },
     "execution_count": 88,
     "metadata": {},
     "output_type": "execute_result"
    }
   ],
   "source": [
    "list(range(0))"
   ]
  }
 ],
 "metadata": {
  "kernelspec": {
   "display_name": "Python 3",
   "language": "python",
   "name": "python3"
  },
  "language_info": {
   "codemirror_mode": {
    "name": "ipython",
    "version": 3
   },
   "file_extension": ".py",
   "mimetype": "text/x-python",
   "name": "python",
   "nbconvert_exporter": "python",
   "pygments_lexer": "ipython3",
   "version": "3.11.5"
  }
 },
 "nbformat": 4,
 "nbformat_minor": 2
}
