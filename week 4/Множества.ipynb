{
 "cells": [
  {
   "cell_type": "code",
   "execution_count": 2,
   "metadata": {},
   "outputs": [],
   "source": [
    "set_1 = [1, 2, 5, 8, 8]\n",
    "set_2 = [1, 2, 3, 6, 9]"
   ]
  },
  {
   "cell_type": "code",
   "execution_count": 4,
   "metadata": {},
   "outputs": [
    {
     "name": "stdout",
     "output_type": "stream",
     "text": [
      "{8, 1, 2, 5} {1, 2, 3, 6, 9}\n",
      "{1, 2, 3, 5, 6, 8, 9}\n",
      "{1, 2}\n"
     ]
    }
   ],
   "source": [
    "print(set(set_1), set(set_2))\n",
    "print(set(set_1) | set(set_2))\n",
    "print(set(set_1) & set(set(set_2)))"
   ]
  }
 ],
 "metadata": {
  "kernelspec": {
   "display_name": "Python 3",
   "language": "python",
   "name": "python3"
  },
  "language_info": {
   "codemirror_mode": {
    "name": "ipython",
    "version": 3
   },
   "file_extension": ".py",
   "mimetype": "text/x-python",
   "name": "python",
   "nbconvert_exporter": "python",
   "pygments_lexer": "ipython3",
   "version": "3.11.5"
  },
  "orig_nbformat": 4
 },
 "nbformat": 4,
 "nbformat_minor": 2
}
